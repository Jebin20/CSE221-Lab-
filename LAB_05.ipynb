{
  "nbformat": 4,
  "nbformat_minor": 0,
  "metadata": {
    "colab": {
      "provenance": [],
      "authorship_tag": "ABX9TyN2FiAkI9AmuZooEl7ZDGBb"
    },
    "kernelspec": {
      "name": "python3",
      "display_name": "Python 3"
    },
    "language_info": {
      "name": "python"
    }
  },
  "cells": [
    {
      "cell_type": "code",
      "execution_count": 1,
      "metadata": {
        "colab": {
          "base_uri": "https://localhost:8080/"
        },
        "id": "O30xn4OKZ4aL",
        "outputId": "8e4b8b68-6335-4459-e3b1-a123162153b6"
      },
      "outputs": [
        {
          "output_type": "stream",
          "name": "stdout",
          "text": [
            "4 3\n",
            "1 4\n",
            "3 2\n",
            "1 3\n",
            "1 3 4 2\n"
          ]
        }
      ],
      "source": [
        "#1 BFS\n",
        "from collections import deque\n",
        "N,M=map(int, input().split())\n",
        "G_Adj=[[] for _ in range(N + 1)]\n",
        "for _ in range(M):\n",
        "    u,v = map(int, input().split())\n",
        "    G_Adj[u].append(v)\n",
        "    G_Adj[v].append(u)\n",
        "for i in G_Adj:\n",
        "    i.sort()\n",
        "colour=[0] * (N + 1)\n",
        "Q = deque()\n",
        "visit_order = []\n",
        "s=1\n",
        "colour[s]=1\n",
        "Q.append(s)\n",
        "while Q:\n",
        "    u = Q[0]\n",
        "    del Q[0]\n",
        "    visit_order.append(u)\n",
        "    for v in G_Adj[u]:\n",
        "        if colour[v]==0:\n",
        "            colour[v]=1\n",
        "            Q.append(v)\n",
        "print(' '.join(map(str, visit_order)))"
      ]
    },
    {
      "cell_type": "code",
      "source": [
        "#2 DFS\n",
        "import sys\n",
        "sys.setrecursionlimit(2 * 100000 + 5)\n",
        "N,M = map(int, input().split())\n",
        "u_list = list(map(int, input().split()))\n",
        "v_list = list(map(int, input().split()))\n",
        "G_Adj = [[] for _ in range(N + 1)]\n",
        "for u, v in zip(u_list, v_list):\n",
        "    G_Adj[u].append(v)\n",
        "    G_Adj[v].append(u)\n",
        "for n in G_Adj:\n",
        "    n.sort()\n",
        "colour = [0] * (N + 1)\n",
        "dfs_order=[]\n",
        "def DFS(G, u):\n",
        "    colour[u]=1\n",
        "    dfs_order.append(u)\n",
        "    for v in G[u]:\n",
        "        if colour[v] == 0:\n",
        "          DFS(G, v)\n",
        "DFS(G_Adj, 1)\n",
        "print(' '.join(map(str, dfs_order)))"
      ],
      "metadata": {
        "colab": {
          "base_uri": "https://localhost:8080/"
        },
        "id": "yR2vDi_aZ676",
        "outputId": "4b067a0c-926d-4a53-8cab-ad3093b9764c"
      },
      "execution_count": 2,
      "outputs": [
        {
          "output_type": "stream",
          "name": "stdout",
          "text": [
            "4 3\n",
            "1 3 1\n",
            "4 2 3\n",
            "1 3 2 4\n"
          ]
        }
      ]
    },
    {
      "cell_type": "code",
      "source": [
        "#3 Shortest Path BFS unweighted\n",
        "import sys\n",
        "from collections import deque\n",
        "sys.setrecursionlimit(2 * 10**5 + 5)\n",
        "N,M,S,D=map(int, input().split())\n",
        "u_list=list(map(int, input().split()))\n",
        "v_list=list(map(int, input().split()))\n",
        "graph = [[] for _ in range(N + 1)]\n",
        "for i in range(M):\n",
        "    u=u_list[i]\n",
        "    v=v_list[i]\n",
        "    graph[u].append(v)\n",
        "    graph[v].append(u)\n",
        "for n in graph:\n",
        "    n.sort()\n",
        "visited=[False] * (N + 1)\n",
        "parent=[-1] * (N + 1)\n",
        "distance=[-1] * (N + 1)\n",
        "def bfs(start):\n",
        "    queue = deque()\n",
        "    visited[start] = True\n",
        "    distance[start] = 0\n",
        "    queue.append(start)\n",
        "    while queue:\n",
        "        node = queue.popleft()\n",
        "        for i in graph[node]:\n",
        "            if not visited[i]:\n",
        "                visited[i] = True\n",
        "                distance[i] = distance[node] + 1\n",
        "                parent[i] = node\n",
        "                queue.append(i)\n",
        "                if i== D:\n",
        "                    continue\n",
        "bfs(S)\n",
        "if not visited[D]:\n",
        "    print(-1)\n",
        "else:\n",
        "    path = []\n",
        "    current = D\n",
        "    while current != -1:\n",
        "        path.append(current)\n",
        "        current = parent[current]\n",
        "    path.reverse()\n",
        "    print(len(path)-1)# path is 1 less than vertices\n",
        "\n",
        "    print(' '.join(map(str, path)))"
      ],
      "metadata": {
        "colab": {
          "base_uri": "https://localhost:8080/"
        },
        "id": "RMys5gnUaUui",
        "outputId": "104aca8d-13d9-4e89-fdaf-1b555e3c3327"
      },
      "execution_count": 3,
      "outputs": [
        {
          "output_type": "stream",
          "name": "stdout",
          "text": [
            "5 4 2 5\n",
            "5 1 2 4\n",
            "1 3 3 2\n",
            "3\n",
            "2 3 1 5\n"
          ]
        }
      ]
    },
    {
      "cell_type": "code",
      "source": [
        "#4 Shortest path BFS mandatory node\n",
        "import sys\n",
        "from collections import deque\n",
        "sys.setrecursionlimit(2 * 10**5 + 5)\n",
        "N, M, S, D, K = map(int, input().split())\n",
        "graph = [[] for _ in range(N + 1)]\n",
        "for _ in range(M):\n",
        "    u, v = map(int, input().split())\n",
        "    graph[u].append(v)\n",
        "def bfs(start, end):\n",
        "    visited = [False] * (N + 1)\n",
        "    parent = [-1] * (N + 1)\n",
        "    queue = deque()\n",
        "    queue.append(start)\n",
        "    visited[start] = True\n",
        "\n",
        "    while queue:\n",
        "        node = queue.popleft()\n",
        "        if node == end:\n",
        "            break\n",
        "        for neighbor in graph[node]:\n",
        "            if not visited[neighbor]:\n",
        "                visited[neighbor] = True\n",
        "                parent[neighbor] = node\n",
        "                queue.append(neighbor)\n",
        "    if not visited[end]:\n",
        "        return None\n",
        "    path = []\n",
        "    curr = end\n",
        "    while curr != -1:\n",
        "        path.append(curr)\n",
        "        curr = parent[curr]\n",
        "    path.reverse()\n",
        "    return path\n",
        "path1 = bfs(S, K)\n",
        "path2 = bfs(K, D)\n",
        "if not path1 or not path2:\n",
        "    print(-1)\n",
        "else:\n",
        "    full_path = path1 + path2[1:]\n",
        "    print(len(full_path) - 1)\n",
        "    print(' '.join(map(str, full_path)))"
      ],
      "metadata": {
        "colab": {
          "base_uri": "https://localhost:8080/"
        },
        "id": "dNtHilXvafRB",
        "outputId": "4dbb1f6d-d048-49a7-97e7-924e9efbfafb"
      },
      "execution_count": 4,
      "outputs": [
        {
          "output_type": "stream",
          "name": "stdout",
          "text": [
            "5 4 2 5 3\n",
            "5 1\n",
            "3 1\n",
            "2 3\n",
            "2 4\n",
            "-1\n"
          ]
        }
      ]
    },
    {
      "cell_type": "code",
      "source": [
        "#5 cycle detection directed\n",
        "import sys\n",
        "sys.setrecursionlimit(10**6)\n",
        "def has_cycle(n, graph):\n",
        "    visited = [False] * (n + 1)\n",
        "    stack = [False] * (n + 1)\n",
        "    def dfs(node):\n",
        "        visited[node] = True\n",
        "        stack[node] = True\n",
        "        for i in graph[node]:\n",
        "            if not visited[i]:\n",
        "                if dfs(i):\n",
        "                    return True\n",
        "            elif stack[i]:\n",
        "                return True\n",
        "        stack[node] = False\n",
        "        return False\n",
        "    for node in range(1, n + 1):\n",
        "        if not visited[node]:\n",
        "            if dfs(node):\n",
        "              return True\n",
        "    return False\n",
        "\n",
        "n,m = map(int, input().split())\n",
        "graph = [[] for _ in range(n + 1)]\n",
        "for _ in range(m):\n",
        "    u,v=map(int, input().split())\n",
        "    graph[u].append(v)\n",
        "if has_cycle(n, graph):\n",
        "    print(\"YES\")\n",
        "else:\n",
        "    print(\"NO\")"
      ],
      "metadata": {
        "colab": {
          "base_uri": "https://localhost:8080/"
        },
        "id": "xpvm72xLahTc",
        "outputId": "3a88ad70-03b5-4f76-def7-5b8ac36e93f6"
      },
      "execution_count": 5,
      "outputs": [
        {
          "output_type": "stream",
          "name": "stdout",
          "text": [
            "6 4\n",
            "6 5\n",
            "6 3\n",
            "4 5\n",
            "6 2\n",
            "NO\n"
          ]
        }
      ]
    },
    {
      "cell_type": "code",
      "source": [
        "#6 diamonds under w bfs\n",
        "from collections import deque\n",
        "def max_diamonds(grid, R, H):\n",
        "    visited=[[False]*H for _ in range(R)]\n",
        "    max_diamond=0\n",
        "    directions = [(-1,0), (1,0), (0,-1), (0,1)]\n",
        "    def bfs(start_row,start_col):\n",
        "        queue=deque()\n",
        "        queue.append((start_row,start_col))\n",
        "        visited[start_row][start_col]=True\n",
        "        diamonds=0\n",
        "        while queue:\n",
        "            r,c=queue.popleft()\n",
        "            if grid[r][c] == 'D':\n",
        "                diamonds += 1\n",
        "            for dr, dc in directions:\n",
        "                nr, nc = r + dr, c + dc\n",
        "                if 0 <= nr < R and 0 <= nc < H:\n",
        "                    if not visited[nr][nc] and grid[nr][nc] != '#':\n",
        "                        visited[nr][nc] = True\n",
        "                        queue.append((nr, nc))\n",
        "        return diamonds\n",
        "    for i in range(R):\n",
        "        for j in range(H):\n",
        "            if not visited[i][j] and grid[i][j] != '#':\n",
        "                diamond_count = bfs(i, j)\n",
        "                max_diamond = max(max_diamond, diamond_count)\n",
        "    return max_diamond\n",
        "R, H=map(int, input().split())\n",
        "grid=[input().strip() for _ in range(R)]\n",
        "print(max_diamonds(grid, R, H))"
      ],
      "metadata": {
        "colab": {
          "base_uri": "https://localhost:8080/"
        },
        "id": "rNH02RufasNx",
        "outputId": "eb56f3d4-daf3-4e3f-eaef-ce79fbffed83"
      },
      "execution_count": 6,
      "outputs": [
        {
          "output_type": "stream",
          "name": "stdout",
          "text": [
            "5 5\n",
            ".#.DD\n",
            "##.#.\n",
            " ####D\n",
            "#DDD#\n",
            "#..DD\n",
            "5\n"
          ]
        }
      ]
    }
  ]
}