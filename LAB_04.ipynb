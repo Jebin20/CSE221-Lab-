{
  "nbformat": 4,
  "nbformat_minor": 0,
  "metadata": {
    "colab": {
      "provenance": [],
      "authorship_tag": "ABX9TyM9YBl9v5IRtFQH54GhDf43"
    },
    "kernelspec": {
      "name": "python3",
      "display_name": "Python 3"
    },
    "language_info": {
      "name": "python"
    }
  },
  "cells": [
    {
      "cell_type": "code",
      "execution_count": 1,
      "metadata": {
        "colab": {
          "base_uri": "https://localhost:8080/"
        },
        "id": "AwR6r-I9Y-xT",
        "outputId": "5ba80a43-9402-4d58-f615-cfea2b66fa29"
      },
      "outputs": [
        {
          "output_type": "stream",
          "name": "stdout",
          "text": [
            "4 3\n",
            "1 3 8\n",
            "3 2 4\n",
            "1 4 2\n",
            "0 0 8 2\n",
            "0 0 0 0\n",
            "0 4 0 0\n",
            "0 0 0 0\n"
          ]
        }
      ],
      "source": [
        "#1 0 index\n",
        "n,m=map(int, input().split())\n",
        "adj_matrix = [[0] * n for i in range(n)]\n",
        "for i in range(m):\n",
        "  u,v,w=map(int, input().split())\n",
        "  adj_matrix[u-1][v-1]=w\n",
        "for r in adj_matrix:\n",
        "   print(' '.join(map(str,r)))"
      ]
    },
    {
      "cell_type": "code",
      "source": [
        "#2\n",
        "n,e = map(int, input().split())\n",
        "u =list(map(int, input().split()))\n",
        "v =list(map(int, input().split()))\n",
        "w =list(map(int, input().split()))\n",
        "adj_list = [[] for _ in range(n + 1)]\n",
        "for i in range(e):\n",
        "    from_node= u[i]\n",
        "    to_node= v[i]\n",
        "    weight= w[i]\n",
        "    adj_list[from_node].append((to_node, weight))\n",
        "for i in range(1, n + 1):\n",
        "    print(f\"{i}:\",end=\"\")\n",
        "    for neighbor,weight in adj_list[i]:\n",
        "        print(f\" ({neighbor},{weight})\", end=\"\")\n",
        "    print()"
      ],
      "metadata": {
        "colab": {
          "base_uri": "https://localhost:8080/"
        },
        "id": "7nlJGJPnZFmn",
        "outputId": "323105f1-4b80-4052-e0ca-4468dd71a4a3"
      },
      "execution_count": 2,
      "outputs": [
        {
          "output_type": "stream",
          "name": "stdout",
          "text": [
            "4 4\n",
            "3 3 2 4\n",
            "2 1 1 3\n",
            "9 5 8 10\n",
            "1:\n",
            "2: (1,8)\n",
            "3: (2,9) (1,5)\n",
            "4: (3,10)\n"
          ]
        }
      ]
    },
    {
      "cell_type": "code",
      "source": [
        "#3\n",
        "n = int(input())\n",
        "adj_matrix = []\n",
        "for i in range(n):\n",
        "  row = []\n",
        "  for j in range(n):\n",
        "    row.append(0)\n",
        "  adj_matrix.append(row)\n",
        "for i in range(n):\n",
        "  parts=list(map(int, input().split()))\n",
        "  k=parts[0]\n",
        "  neighbor=parts[1:]\n",
        "  for m in neighbor:\n",
        "    adj_matrix[i][m] = 1\n",
        "for row in adj_matrix:\n",
        "  print(' '.join(map(str, row)))"
      ],
      "metadata": {
        "colab": {
          "base_uri": "https://localhost:8080/"
        },
        "id": "x0xvP9YlZWdX",
        "outputId": "9e0f955b-d094-4f2a-e652-088ba5cb025f"
      },
      "execution_count": 3,
      "outputs": [
        {
          "output_type": "stream",
          "name": "stdout",
          "text": [
            "5\n",
            "2 1 2\n",
            "1 0\n",
            "1 0\n",
            "1 4\n",
            "1 3\n",
            "0 1 1 0 0\n",
            "1 0 0 0 0\n",
            "1 0 0 0 0\n",
            "0 0 0 0 1\n",
            "0 0 0 1 0\n"
          ]
        }
      ]
    },
    {
      "cell_type": "code",
      "source": [
        "#4\n",
        "n, m= map(int, input().split())\n",
        "u =list(map(int, input().split()))\n",
        "v =list(map(int, input().split()))\n",
        "degree_array=[0]*(n + 1)\n",
        "for i in range(m):\n",
        "    degree_array[u[i]]+=1\n",
        "    degree_array[v[i]]+=1\n",
        "odd_count = 0\n",
        "for d in degree_array[1:]:#1 based idx\n",
        "  if d % 2 == 1:\n",
        "    odd_count += 1\n",
        "if odd_count == 0 or odd_count == 2:\n",
        "    print(\"YES\")\n",
        "else:\n",
        "    print(\"NO\")"
      ],
      "metadata": {
        "colab": {
          "base_uri": "https://localhost:8080/"
        },
        "id": "ETctcRMxZdTw",
        "outputId": "25091a26-95e0-4f0c-fd13-7a06d771ee38"
      },
      "execution_count": 4,
      "outputs": [
        {
          "output_type": "stream",
          "name": "stdout",
          "text": [
            "8 7\n",
            "4 4 6 6 3 1 8\n",
            "6 5 3 2 7 8 7\n",
            "NO\n"
          ]
        }
      ]
    },
    {
      "cell_type": "code",
      "source": [
        "#5\n",
        "n,e=map(int, input().split())\n",
        "u=list(map(int, input().split()))\n",
        "v=list(map(int, input().split()))\n",
        "in_d=[0]*(n + 1)\n",
        "out_d= [0]*(n + 1)\n",
        "for i in range(e):\n",
        "    out_d[u[i]]+=1\n",
        "    in_d[v[i]]+=1\n",
        "for i in range(1, n + 1):\n",
        "    print(in_d[i]-out_d[i],end=' ')"
      ],
      "metadata": {
        "colab": {
          "base_uri": "https://localhost:8080/"
        },
        "id": "q2zQRk-PZlCA",
        "outputId": "2c5164b7-baf9-43d9-baa7-f8781cbb6a4a"
      },
      "execution_count": 5,
      "outputs": [
        {
          "output_type": "stream",
          "name": "stdout",
          "text": [
            "5 10\n",
            "5 5 5 2 2 2 3 3 4 2\n",
            "2 3 1 3 4 1 4 1 2 4\n",
            "3 -2 0 2 -3 "
          ]
        }
      ]
    },
    {
      "cell_type": "code",
      "source": [
        "#6\n",
        "n=int(input())\n",
        "x,y=map(int, input().split())\n",
        "directions = [(-1, -1), (-1, 0), (-1, 1),\n",
        "              (0, -1),           (0, 1),\n",
        "              (1, -1),  (1, 0),  (1, 1)]\n",
        "possible_move=[]\n",
        "for dx,dy in directions:\n",
        "    nx=x+dx\n",
        "    ny=y+dy\n",
        "    if 1<=nx <= n and 1<=ny<=n:\n",
        "        possible_move.append((nx, ny))\n",
        "possible_move.sort()\n",
        "print(len(possible_move))\n",
        "for i in possible_move:\n",
        "    print(i[0],i[1])"
      ],
      "metadata": {
        "colab": {
          "base_uri": "https://localhost:8080/"
        },
        "id": "St5Uorc7ZqKa",
        "outputId": "b2154d80-1c18-4d16-fa09-e62dd32aeaf7"
      },
      "execution_count": 6,
      "outputs": [
        {
          "output_type": "stream",
          "name": "stdout",
          "text": [
            "8\n",
            "1 2\n",
            "5\n",
            "1 1\n",
            "1 3\n",
            "2 1\n",
            "2 2\n",
            "2 3\n"
          ]
        }
      ]
    },
    {
      "cell_type": "code",
      "source": [
        "#7\n",
        "import math\n",
        "n,q=map(int, input().split())\n",
        "adj=[]\n",
        "for i in range(n+1):\n",
        "  adj.append([])\n",
        "for i in range(1,n+1):\n",
        "    for j in range(1,n+1):\n",
        "        if i!=j and math.gcd(i,j)==1:\n",
        "            adj[i].append(j)\n",
        "    adj[i].sort()\n",
        "for i in range(q):\n",
        "    x,k=map(int, input().split())\n",
        "    if k<=len(adj[x]):\n",
        "        print(adj[x][k - 1])\n",
        "    else:\n",
        "        print(-1)"
      ],
      "metadata": {
        "colab": {
          "base_uri": "https://localhost:8080/"
        },
        "id": "WoU4c4A8Zt8N",
        "outputId": "e6400d6e-7ebf-4c97-d71e-a2cb89db459d"
      },
      "execution_count": 7,
      "outputs": [
        {
          "output_type": "stream",
          "name": "stdout",
          "text": [
            "2 1\n",
            "2 1\n",
            "1\n"
          ]
        }
      ]
    }
  ]
}