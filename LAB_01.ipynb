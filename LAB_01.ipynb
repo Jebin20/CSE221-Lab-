{
  "nbformat": 4,
  "nbformat_minor": 0,
  "metadata": {
    "colab": {
      "provenance": [],
      "authorship_tag": "ABX9TyM0g68/U/Lk+icw9Kc2SuyE"
    },
    "kernelspec": {
      "name": "python3",
      "display_name": "Python 3"
    },
    "language_info": {
      "name": "python"
    }
  },
  "cells": [
    {
      "cell_type": "code",
      "execution_count": null,
      "metadata": {
        "id": "33f4iwdJPDfH"
      },
      "outputs": [],
      "source": [
        "#1\n",
        "T=int(input())\n",
        "if not 1<=T<=100:\n",
        "  print(\"Invalid Range\")\n",
        "else:\n",
        "  for i in range(T):\n",
        "      n=int(input())\n",
        "      if not (-10**5<=n<=10**5):\n",
        "        print(\"Invalid Range\")\n",
        "      else:\n",
        "       if n%2==0:\n",
        "        print(f'{n} is an Even number.')\n",
        "       else:\n",
        "        print(f'{n} is an Odd number.')"
      ]
    },
    {
      "cell_type": "code",
      "source": [
        "#2#2 arithmetic expression\n",
        "T=int(input())\n",
        "for i in range(T):\n",
        "  expression=input()\n",
        "  a=expression.split()\n",
        "  n1=int(a[1])\n",
        "  operator=a[2]\n",
        "  n2=int(a[3])\n",
        "  if operator == '+':\n",
        "   print(n1+n2)\n",
        "  elif operator == '-':\n",
        "   print(n1-n2)\n",
        "  elif operator == '*':\n",
        "   print(n1*n2)\n",
        "  elif operator == '/':\n",
        "   print(f'{n1/n2:.6f}')"
      ],
      "metadata": {
        "id": "nqYKCTKWPHai"
      },
      "execution_count": null,
      "outputs": []
    },
    {
      "cell_type": "code",
      "source": [
        "#3\n",
        "given=input().split()\n",
        "num=int(given[0])\n",
        "values=int(given[1])\n",
        "lst=input().split(\" \")\n",
        "new=[]\n",
        "for i in range(values):\n",
        "  new.append(lst[i])\n",
        "res=new[::-1]\n",
        "for i in res:\n",
        "  print(i,end=\" \")\n"
      ],
      "metadata": {
        "id": "CyuPuReLPLqN"
      },
      "execution_count": null,
      "outputs": []
    },
    {
      "cell_type": "code",
      "source": [
        "#4\n",
        "T = int(input())\n",
        "for _ in range(T):\n",
        "    N = int(input())\n",
        "    print(N*(N+1)//2)"
      ],
      "metadata": {
        "id": "5HFeksATPU-X"
      },
      "execution_count": null,
      "outputs": []
    },
    {
      "cell_type": "code",
      "source": [
        "#5\n",
        "def bubbleSort(arr):\n",
        "  for i in range(n):\n",
        "    flag=False\n",
        "    for j in range(n-i-1):\n",
        "      if arr[j] > arr[j+1]:\n",
        "         arr[j], arr[j+1] = arr[j+1], arr[j]\n",
        "         flag=True\n",
        "    if not flag:\n",
        "      break\n",
        "n=int(input())\n",
        "arr=input().split()\n",
        "lst=[]\n",
        "for k in arr:\n",
        "  lst.append(int(k))\n",
        "arr=lst\n",
        "bubbleSort(arr)\n",
        "print(*arr)"
      ],
      "metadata": {
        "id": "MhTHCCKOPZXL"
      },
      "execution_count": null,
      "outputs": []
    },
    {
      "cell_type": "code",
      "source": [
        "#6 sorting again\n",
        "def swap_count(arr):\n",
        "    n = len(arr)\n",
        "    count = 0\n",
        "    for i in range(n):\n",
        "      swap=False\n",
        "      for j in range(0, n - i - 1):\n",
        "            if (arr[j][1] < arr[j + 1][1]) or (arr[j][1] == arr[j + 1][1] and arr[j][0] > arr[j + 1][0]):\n",
        "                arr[j], arr[j + 1] = arr[j + 1], arr[j]\n",
        "                count += 1\n",
        "                swap=True\n",
        "      if not swap:\n",
        "            break\n",
        "    return count\n",
        "def main():\n",
        "    N = int(input())\n",
        "    ids = input().split()\n",
        "    marks = input().split()\n",
        "    students = []\n",
        "    for i in range(N):\n",
        "        id = int(ids[i])\n",
        "        mark = int(marks[i])\n",
        "        students.append((id, mark))\n",
        "    count=swap_count(students)\n",
        "    print(f'Minimum swaps:{count}')\n",
        "    for student in students:\n",
        "        print(f'ID: {student[0]} Mark: {student[1]}')\n",
        "main()"
      ],
      "metadata": {
        "id": "EDcUcFm0Pb8p"
      },
      "execution_count": null,
      "outputs": []
    },
    {
      "cell_type": "code",
      "source": [
        "#6(2) selection sort is preferred\n",
        "def swap_count(arr):\n",
        "    n = len(arr)\n",
        "    count = 0\n",
        "    for i in range(n):\n",
        "      max_idx = i\n",
        "      for j in range(i + 1, n):\n",
        "        if (arr[j][1] > arr[max_idx][1]) or (arr[j][1] == arr[max_idx][1] and arr[j][0] < arr[max_idx][0]):\n",
        "          max_idx = j\n",
        "      if max_idx != i:\n",
        "            arr[i], arr[max_idx] = arr[max_idx], arr[i]\n",
        "            count += 1\n",
        "    return count\n",
        "def func():\n",
        "    N = int(input())\n",
        "    ids = input().split()\n",
        "    marks = input().split()\n",
        "    students = []\n",
        "    for i in range(N):\n",
        "        id = int(ids[i])\n",
        "        mark = int(marks[i])\n",
        "        students.append((id, mark))\n",
        "    count = swap_count(students)\n",
        "    print(f'Minimum swaps: {count}')\n",
        "    for student in students:\n",
        "      print"
      ],
      "metadata": {
        "id": "UfLAIHVkPhbf"
      },
      "execution_count": null,
      "outputs": []
    },
    {
      "cell_type": "code",
      "source": [
        "#7 train\n",
        "def train_sort(train):\n",
        "  trains.sort(key=lambda x: (x[0], -x[2], x[3]))\n",
        "  for train in trains:\n",
        "     print(f\"{train[0]} will depart for {train[1]} at {train[2]:02}:{train[3]:02}\")\n",
        "def convert_time_to_minutes(time_str):\n",
        "  hours, minutes = map(int, time_str.split(':'))\n",
        "  return hours * 60 + minutes\n",
        "def func():\n",
        "    n = int(input())\n",
        "    trains=[]\n",
        "    for i in range(n):\n",
        "        schedule = input().strip()\n",
        "        parts = schedule.split()\n",
        "        name = parts[0]\n",
        "        destination = parts[4]\n",
        "        time = parts[-1]\n",
        "        time_in_minutes = convert_time_to_minutes(departure_time)\n",
        "\n",
        "        trains.append((name, destination, time_in_minutes, i))\n",
        "func()"
      ],
      "metadata": {
        "id": "dqzyd1k7Pjep"
      },
      "execution_count": null,
      "outputs": []
    }
  ]
}