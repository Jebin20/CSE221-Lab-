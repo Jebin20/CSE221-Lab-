{
  "nbformat": 4,
  "nbformat_minor": 0,
  "metadata": {
    "colab": {
      "provenance": [],
      "authorship_tag": "ABX9TyNEtCfFKiShNWgrVS3fMO9q"
    },
    "kernelspec": {
      "name": "python3",
      "display_name": "Python 3"
    },
    "language_info": {
      "name": "python"
    }
  },
  "cells": [
    {
      "cell_type": "code",
      "source": [
        "#1\n",
        "def mergeSort(arr):\n",
        "    if len(arr) <= 1:\n",
        "        return arr,0\n",
        "    else:\n",
        "        mid = len(arr)//2\n",
        "        left,left_inv = mergeSort(arr[:mid])\n",
        "        right,right_inv = mergeSort(arr[mid:])\n",
        "        merged,split_inv =merge(left,right)\n",
        "        total=left_inv+right_inv+split_inv\n",
        "        return merged,total\n",
        "def merge(left,right):\n",
        "  i=j=0\n",
        "  lst=[]\n",
        "  count=0\n",
        "  while i< len(left) and j<len(right):\n",
        "    if left[i]<right[j]:\n",
        "      lst.append(left[i])\n",
        "      i+=1\n",
        "    else:\n",
        "      lst.append(right[j])\n",
        "      count+=len(left)-i\n",
        "      j+=1\n",
        "  lst.extend(left[i:])\n",
        "  lst.extend(right[j:])\n",
        "  return lst,count\n",
        "n = int(input())\n",
        "arr = list(map(int, input().split()))\n",
        "sorted_arr,count=mergeSort(arr)\n",
        "mergeSort(arr)\n",
        "print(count)\n",
        "print(\" \".join(map(str, sorted_arr)))\n"
      ],
      "metadata": {
        "colab": {
          "base_uri": "https://localhost:8080/"
        },
        "id": "bC1H3SLnV-RC",
        "outputId": "06246695-a282-40e1-9601-dead18ceacfc"
      },
      "execution_count": 8,
      "outputs": [
        {
          "output_type": "stream",
          "name": "stdout",
          "text": [
            "7\n",
            "6 4 2 5 7 3 1\n",
            "14\n",
            "1 2 3 4 5 6 7\n"
          ]
        }
      ]
    },
    {
      "cell_type": "code",
      "source": [
        "#2\n",
        "def pair_max(arr):\n",
        "  n=len(arr)\n",
        "  i=arr[0]\n",
        "  result=0\n",
        "  for j in range(1,n):\n",
        "    result=max(result,i+arr[j]**2)\n",
        "    i=max(i,arr[j])\n",
        "  return result\n",
        "n=int(input())\n",
        "arr=list(map(int, input().split()))\n",
        "print(pair_max(arr))"
      ],
      "metadata": {
        "colab": {
          "base_uri": "https://localhost:8080/"
        },
        "id": "ZZUe0pi1UwB1",
        "outputId": "f5c8a104-488c-497e-e80a-e5aabe973c38"
      },
      "execution_count": 2,
      "outputs": [
        {
          "output_type": "stream",
          "name": "stdout",
          "text": [
            "5\n",
            "4 3 1 -9 6\n",
            "85\n"
          ]
        }
      ]
    },
    {
      "cell_type": "code",
      "source": [
        "#3\n",
        "def fast_mod(a,b,m=107):\n",
        "  res=1\n",
        "  base=a%m\n",
        "  while b>0:\n",
        "    if b%2==1:\n",
        "      res=(res*base)%m\n",
        "    base=(base*base)%m\n",
        "    b//=2\n",
        "  return res\n",
        "a, b = map(int, input().split())\n",
        "m=107\n",
        "print(fast_mod(a, b, m))"
      ],
      "metadata": {
        "colab": {
          "base_uri": "https://localhost:8080/"
        },
        "id": "XfhNpikvU56L",
        "outputId": "b44189fd-6de0-4079-daef-1dbcda572df0"
      },
      "execution_count": 3,
      "outputs": [
        {
          "output_type": "stream",
          "name": "stdout",
          "text": [
            "10000 1000000000000\n",
            "27\n"
          ]
        }
      ]
    },
    {
      "cell_type": "code",
      "source": [
        "#4\n",
        "def mod_exp(x, y, mod_value):\n",
        "    res= 1\n",
        "    temp=x%mod_value\n",
        "    while y>0:\n",
        "        if y%2==1:\n",
        "            res=(res*temp) % mod_value\n",
        "        temp=(temp*temp) % mod_value\n",
        "        y //= 2\n",
        "    return res\n",
        "\n",
        "def mod_sum(x, y, mod_value):\n",
        "    if y==1:\n",
        "        return x % mod_value\n",
        "\n",
        "    if y%2 == 0:\n",
        "        half_val=mod_sum(x, y//2, mod_value)\n",
        "        return (half_val*(1 + mod_exp(x, y // 2, mod_value)))%mod_value\n",
        "    else:\n",
        "        return (mod_sum(x, y - 1,mod_value) + mod_exp(x, y, mod_value)) % mod_value\n",
        "\n",
        "test_cases = int(input())\n",
        "for _ in range(test_cases):\n",
        "    num1, num2, num3 = map(int, input().split())\n",
        "    print(mod_sum(num1, num2, num3))"
      ],
      "metadata": {
        "colab": {
          "base_uri": "https://localhost:8080/"
        },
        "id": "cZ5DrYM2VAb7",
        "outputId": "3b6dcadd-4374-4039-80cc-0da4a60a61c9"
      },
      "execution_count": 5,
      "outputs": [
        {
          "output_type": "stream",
          "name": "stdout",
          "text": [
            "3\n",
            "2 5 1000\n",
            "62\n",
            "2 9 1000\n",
            "22\n",
            "1 100 30\n",
            "10\n"
          ]
        }
      ]
    },
    {
      "cell_type": "code",
      "source": [
        "#5\n",
        "def order_bst(arr,res):\n",
        "    l=0\n",
        "    r=len(arr)-1\n",
        "    if not arr:\n",
        "      return\n",
        "    mid=(l+r)//2\n",
        "    res.append(arr[mid])\n",
        "    order_bst(arr[:mid],res)\n",
        "    order_bst(arr[mid+1:],res)\n",
        "N = int(input())\n",
        "A = list(map(int, input().split()))\n",
        "res=[]\n",
        "order_bst(A,res)\n",
        "for i in res:\n",
        "  print(i,end=\" \")"
      ],
      "metadata": {
        "colab": {
          "base_uri": "https://localhost:8080/"
        },
        "id": "nK9w5xPGVLKt",
        "outputId": "d4b711dd-5c4b-4d5d-e843-1a108e9af0f1"
      },
      "execution_count": 6,
      "outputs": [
        {
          "output_type": "stream",
          "name": "stdout",
          "text": [
            "5\n",
            "1 2 3 4 5\n",
            "3 1 2 4 5 "
          ]
        }
      ]
    },
    {
      "cell_type": "code",
      "source": [
        "#6\n",
        "def ordering(inorder,preorder):\n",
        "    if not inorder:\n",
        "        return []\n",
        "    root=preorder[0]\n",
        "    a=inorder.index(root)\n",
        "    L=ordering(inorder[0:a],preorder[1:a+1])\n",
        "    R=ordering(inorder[a+1:],preorder[a+1:])\n",
        "    return L+R+[root]\n",
        "N=int(input())\n",
        "M= list(map(int, input().split()))\n",
        "pre=list(map(int, input().split()))\n",
        "post=ordering(M,pre)\n",
        "for i in post:\n",
        "    print(i,end=\" \")"
      ],
      "metadata": {
        "colab": {
          "base_uri": "https://localhost:8080/"
        },
        "id": "B1TLMamHVRXM",
        "outputId": "755fc42d-0f6f-499a-adf8-8a4658e8297c"
      },
      "execution_count": 7,
      "outputs": [
        {
          "output_type": "stream",
          "name": "stdout",
          "text": [
            "5\n",
            "4 2 5 1 3\n",
            "1 2 4 5 3\n",
            "4 5 2 3 1 "
          ]
        }
      ]
    }
  ]
}