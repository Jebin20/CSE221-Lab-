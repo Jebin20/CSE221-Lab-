{
  "nbformat": 4,
  "nbformat_minor": 0,
  "metadata": {
    "colab": {
      "provenance": [],
      "authorship_tag": "ABX9TyP1L9P8zGkeoOF/uWGti9Y9"
    },
    "kernelspec": {
      "name": "python3",
      "display_name": "Python 3"
    },
    "language_info": {
      "name": "python"
    }
  },
  "cells": [
    {
      "cell_type": "code",
      "execution_count": 1,
      "metadata": {
        "colab": {
          "base_uri": "https://localhost:8080/"
        },
        "id": "4FcpEVPNQiug",
        "outputId": "7444518b-6498-43ca-a602-4cf3f8cb41f8"
      },
      "outputs": [
        {
          "output_type": "stream",
          "name": "stdout",
          "text": [
            "6 18\n",
            "1 5 8 9 9 10\n",
            "3 6\n"
          ]
        }
      ],
      "source": [
        "#1\n",
        "n=input().split()\n",
        "elem=int(n[0])\n",
        "s=int(n[1])\n",
        "li=input().split()\n",
        "for i in range(len(li)):\n",
        "  li[i]=int(li[i])\n",
        "i=0\n",
        "j=len(li)-1\n",
        "while i<j:\n",
        "  curr=int(li[i]+li[j])\n",
        "  if curr<s:\n",
        "    i+=1\n",
        "  elif curr>s:\n",
        "    j-=1\n",
        "  elif curr==s:\n",
        "    print(i+1,j+1)\n",
        "    break\n",
        "if curr!=s:\n",
        "  print(int(-1))"
      ]
    },
    {
      "cell_type": "code",
      "source": [
        "#2\n",
        "def merge_lists(N,lst1,M,lst2):\n",
        "  merged=[]\n",
        "  i,j=0,0\n",
        "  while i<N and j<M:\n",
        "    if lst1[i]<=lst2[j]:\n",
        "      merged.append(lst1[i])\n",
        "      i+=1\n",
        "    else:\n",
        "      merged.append(lst2[j])\n",
        "      j+=1\n",
        "  while i<N:\n",
        "    merged.append(lst1[i])\n",
        "    i+=1\n",
        "  while j<M:\n",
        "    merged.append(lst2[j])\n",
        "    j+=1\n",
        "  print(' '.join(map(str, merged)))\n",
        "N = int(input())\n",
        "lst1 = list(map(int, input().split()))\n",
        "M=int(input())\n",
        "lst2= list(map(int, input().split()))\n",
        "merge_lists(N,lst1,M,lst2)"
      ],
      "metadata": {
        "colab": {
          "base_uri": "https://localhost:8080/"
        },
        "id": "1Mlu7yt6Ts5v",
        "outputId": "738c942e-502e-4aea-a736-16a2c074d090"
      },
      "execution_count": 2,
      "outputs": [
        {
          "output_type": "stream",
          "name": "stdout",
          "text": [
            "5\n",
            "1 2 3 4 5\n",
            "2\n",
            "10 12\n",
            "1 2 3 4 5 10 12\n"
          ]
        }
      ]
    },
    {
      "cell_type": "code",
      "source": [
        "#3\n",
        "def subarray_sum(N,K,arr):\n",
        "  j=0\n",
        "  curr_sum=0\n",
        "  max_length=0\n",
        "  for i in range(N):\n",
        "    curr_sum+=arr[i]\n",
        "    while curr_sum>K:\n",
        "        curr_sum-=arr[j]\n",
        "        j+=1\n",
        "    max_length=max(max_length, i-j+1)\n",
        "  return max_length\n",
        "\n",
        "N,K=map(int,input().split())\n",
        "arr=list(map(int,input().split()))\n",
        "print(subarray_sum(N,K,arr))"
      ],
      "metadata": {
        "colab": {
          "base_uri": "https://localhost:8080/"
        },
        "id": "xmAHqVhETu2E",
        "outputId": "c3618ab0-11df-48df-f10b-2fd47b82e66e"
      },
      "execution_count": 3,
      "outputs": [
        {
          "output_type": "stream",
          "name": "stdout",
          "text": [
            "3 1\n",
            "2 3 4\n",
            "0\n"
          ]
        }
      ]
    },
    {
      "cell_type": "code",
      "source": [
        "#4\n",
        "def binary_iteration(S):\n",
        "  left=0\n",
        "  right=len(S)-1\n",
        "  res=-1\n",
        "  while left<=right:\n",
        "    mid=(left+right)//2\n",
        "    if S[mid]==\"1\":\n",
        "      res=mid+1\n",
        "      right=mid-1\n",
        "    else:\n",
        "      left=mid+1\n",
        "  return res\n",
        "\n",
        "def test(N,tests):\n",
        "  result=[]\n",
        "  for S in tests:\n",
        "    result.append(binary_iteration(S))\n",
        "  return result\n",
        "N=int(input())\n",
        "tests=[input().strip()for i in range(N)]\n",
        "Result=test(N, tests)\n",
        "print(\"\\n\".join(map(str, Result)))"
      ],
      "metadata": {
        "colab": {
          "base_uri": "https://localhost:8080/"
        },
        "id": "9cDDXRQnTygL",
        "outputId": "09071c58-4c24-4519-91ae-881ceec3af87"
      },
      "execution_count": 4,
      "outputs": [
        {
          "output_type": "stream",
          "name": "stdout",
          "text": [
            "3\n",
            "00001111\n",
            "00000\n",
            "11111\n",
            "5\n",
            "-1\n",
            "1\n"
          ]
        }
      ]
    },
    {
      "cell_type": "code",
      "source": [
        "#5\n",
        "def find_left(a, x):\n",
        "    left, right=0,len(a) - 1\n",
        "    while left<=right:\n",
        "        mid=(left + right)//2\n",
        "        if a[mid]>=x:\n",
        "            right=mid - 1\n",
        "        else:\n",
        "            left=mid + 1\n",
        "    return left\n",
        "\n",
        "def find_right(a, y):\n",
        "    left, right=0,len(a) - 1\n",
        "    while left<=right:\n",
        "        mid=(left + right)//2\n",
        "        if a[mid]>y:\n",
        "            right=mid - 1\n",
        "        else:\n",
        "            left=mid + 1\n",
        "    return left\n",
        "\n",
        "def count_elements_in_range(a, x, y):\n",
        "    left_idx= find_left(a, x)\n",
        "    right_idx = find_right(a, y)\n",
        "    return right_idx- left_idx\n",
        "\n",
        "def Input():\n",
        "    n, q = map(int, input().split())\n",
        "    a = list(map(int, input().split()))\n",
        "    for _ in range(q):\n",
        "        x, y = map(int, input().split())\n",
        "        print(count_elements_in_range(a, x, y))\n",
        "Input()"
      ],
      "metadata": {
        "colab": {
          "base_uri": "https://localhost:8080/"
        },
        "id": "Bmnwgjc6UI4Z",
        "outputId": "43e6926a-6665-4be1-a6e1-c7abd4bac6e7"
      },
      "execution_count": 6,
      "outputs": [
        {
          "output_type": "stream",
          "name": "stdout",
          "text": [
            "5 3 \n",
            "10 20 20 45 79\n",
            "20 50\n",
            "3\n",
            "5 100\n",
            "5\n",
            "1 10\n",
            "1\n"
          ]
        }
      ]
    }
  ]
}